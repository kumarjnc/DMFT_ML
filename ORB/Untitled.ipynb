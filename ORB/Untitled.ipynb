{
 "cells": [
  {
   "cell_type": "code",
   "execution_count": 2,
   "id": "pointed-terminology",
   "metadata": {},
   "outputs": [],
   "source": [
    "#----Initialization----------------------\n",
    "import numpy as np\n",
    "import pandas as pd\n",
    "import tensorflow\n",
    "import tensorflow.keras\n",
    "from keras.models import Sequential\n",
    "from keras.layers import Dense, Dropout, Flatten\n",
    "from tensorflow.keras.optimizers import Adam, SGD, RMSprop\n",
    "from tensorflow.keras.utils import to_categorical\n",
    "from tensorflow.keras import initializers\n",
    "from tensorflow.keras import regularizers\n",
    "from tensorflow.keras.regularizers import l2\n",
    "import matplotlib.pyplot as plt\n",
    "from sklearn.model_selection import train_test_split\n",
    "from scipy.stats import multivariate_normal\n",
    "from scipy.special import softmax\n",
    "from scipy import sparse\n",
    "from scipy.optimize import leastsq\n",
    "from keras.wrappers.scikit_learn import KerasRegressor\n",
    "from sklearn.model_selection import cross_val_score\n",
    "from sklearn.model_selection import KFold\n",
    "import math\n",
    "pi=math.pi\n",
    "exp=math.exp"
   ]
  },
  {
   "cell_type": "code",
   "execution_count": 3,
   "id": "worse-timer",
   "metadata": {},
   "outputs": [],
   "source": [
    "# mlp for multi-output regression\n",
    "from numpy import mean\n",
    "from numpy import std\n",
    "from sklearn.datasets import make_regression\n",
    "from sklearn.model_selection import RepeatedKFold\n",
    "from keras.models import Sequential\n",
    "from keras.layers import Dense"
   ]
  },
  {
   "cell_type": "code",
   "execution_count": 4,
   "id": "written-deputy",
   "metadata": {},
   "outputs": [
    {
     "data": {
      "image/png": "[encoded data removed]",
      "text/plain": [
       "<Figure size 288x288 with 1 Axes>"
      ]
     },
     "metadata": {
      "needs_background": "light"
     },
     "output_type": "display_data"
    }
   ],
   "source": [
    "inp_up=np.loadtxt('Gfupin.dat') # input with 2,4,6 orbital 100 random U\n",
    "inp_dw=np.loadtxt('Gfdwin.dat')\n",
    "out_up=np.loadtxt('Gfupout.dat') # output with 8 orbital 100\n",
    "out_dw=np.loadtxt('Gfdwout.dat')\n",
    "#------------------To cross check we reshape-------------\n",
    "Ginp_up=np.reshape(inp_up, (500,256*3), order='C')\n",
    "Ginp_dw=np.reshape(inp_dw, (500,256*3),order='C')\n",
    "Gout_up=np.reshape(out_up, (500,256),order='C')\n",
    "Gout_dw=np.reshape(out_dw, (500,256),order='C')\n",
    "\n",
    "tmp=np.reshape(Ginp_up,(500,256,3))\n",
    "tmpdw=np.reshape(Ginp_dw,(500,256,3))\n",
    "\n",
    "\n",
    "interaction=np.loadtxt('../U.dat')\n",
    "dfint=pd.DataFrame(data=interaction)\n",
    "dfint.hist(bins=100, grid=False, figsize=(4,4), color='#86bf91', zorder=2, rwidth=0.9)\n",
    "plt.xlabel('U')\n",
    "plt.ylabel(\"units\")\n",
    "plt.show()"
   ]
  },
  {
   "cell_type": "code",
   "execution_count": 5,
   "id": "professional-czech",
   "metadata": {},
   "outputs": [],
   "source": [
    "wn=np.arange(0,256)\n",
    "x=wn\n",
    "y=tmp[2,:,0]+0.0001"
   ]
  },
  {
   "cell_type": "code",
   "execution_count": null,
   "id": "hydraulic-manhattan",
   "metadata": {},
   "outputs": [],
   "source": [
    "def step(x):\n",
    "    return 0.5*(np.sign(x) + np.sign(1 - x))"
   ]
  },
  {
   "cell_type": "code",
   "execution_count": 15,
   "id": "closed-saying",
   "metadata": {},
   "outputs": [],
   "source": [
    "def func2(params, x, y):\n",
    "    a,b,c,d,e=params[0], params[1], params[2],params[3], params[4]\n",
    "    residual=y-(a*np.exp(b*x**2-c*x-d)+e)\n",
    "    return residual"
   ]
  },
  {
   "cell_type": "code",
   "execution_count": 16,
   "id": "circular-guyana",
   "metadata": {},
   "outputs": [],
   "source": [
    "params = [0, 0, 0, 0, 0]"
   ]
  },
  {
   "cell_type": "code",
   "execution_count": 17,
   "id": "three-berry",
   "metadata": {},
   "outputs": [
    {
     "name": "stdout",
     "output_type": "stream",
     "text": [
      "4.075360117167561e-36 0.0024771334115842127 0.6216707974081049 -78.84950394138903 0.00038736833818944896\n"
     ]
    }
   ],
   "source": [
    "result = leastsq(func2, params, (x, y),maxfev=10000)\n",
    "a, b, c,d, e=result[0][0], result[0][1], result[0][2],result[0][3], result[0][4]\n",
    "print(a,b,c,d,e)\n",
    "yfit1=a*np.exp(b*x**2-c*x-d)+e"
   ]
  },
  {
   "cell_type": "code",
   "execution_count": 18,
   "id": "empty-health",
   "metadata": {},
   "outputs": [
    {
     "data": {
      "image/png": "[encoded data removed]",
      "text/plain": [
       "<Figure size 432x288 with 1 Axes>"
      ]
     },
     "metadata": {
      "needs_background": "light"
     },
     "output_type": "display_data"
    }
   ],
   "source": [
    "plt.plot(x, y, 'bo', label=\"y-original\")\n",
    "plt.plot(x, yfit1, color=\"red\", label=\"y=ax^2+bx+c\")\n",
    "plt.ylabel('y')\n",
    "plt.legend(loc='best', fancybox=True, shadow=True)\n",
    "plt.grid(True)\n",
    "plt.show()\n"
   ]
  },
  {
   "cell_type": "code",
   "execution_count": null,
   "id": "suitable-interview",
   "metadata": {},
   "outputs": [],
   "source": [
    "popt_f=[]\n",
    "for i in range(500):\n",
    "    ydata=tmp[i,:,0]\n",
    "    guess=[1.0,1.0,1.0]\n",
    "    popt, pcov = curve_fit(func, wn, ydata, p0=guess)\n",
    "    popt_f.append([popt[0],popt[1],popt[2]])\n",
    "\n",
    "d2orb=pd.DataFrame(popt_f)   \n",
    "d2orb.columns=['param02','param12','param22']\n",
    "#y_new=func(wn, popt[0], popt[1], popt[2], popt[3], popt[4])\n",
    "\n",
    "index=d2orb.iloc[6].to_numpy()\n",
    "print(index)\n",
    "y_new=func(wn, index[0], index[1],index[2])\n",
    "\n",
    "plt.plot(wn, y_new)\n",
    "plt.plot(wn, tmp[6,:,0],'o')"
   ]
  },
  {
   "cell_type": "code",
   "execution_count": null,
   "id": "sought-mustang",
   "metadata": {},
   "outputs": [],
   "source": [
    "popt_f=[]\n",
    "for i in range(500):\n",
    "    ydata=tmp[i,:,1]\n",
    "    guess=[1.0,1.0,1.0,1.0,0.0]\n",
    "    popt, pcov = curve_fit(func, wn, ydata, p0=guess)\n",
    "    popt_f.append([popt[0],popt[1],popt[2],popt[3],popt[4]])\n",
    "\n",
    "d4orb=pd.DataFrame(popt_f)\n",
    "d4orb.columns=['param04','param14','param24','param34','param44']\n",
    "d4orb"
   ]
  },
  {
   "cell_type": "code",
   "execution_count": null,
   "id": "saved-constant",
   "metadata": {},
   "outputs": [],
   "source": [
    "popt_f=[]\n",
    "for i in range(500):\n",
    "    ydata=tmp[i,:,2]\n",
    "    guess=[1.0,1.0,1.0,1.0,0.0]\n",
    "    popt, pcov = curve_fit(func, wn, ydata, p0=guess)\n",
    "    popt_f.append([popt[0],popt[1],popt[2],popt[3],popt[4]])\n",
    "\n",
    "d6orb=pd.DataFrame(popt_f)\n",
    "d6orb.columns=['param06','param16','param26','param36','param46']\n",
    "d6orb"
   ]
  },
  {
   "cell_type": "code",
   "execution_count": null,
   "id": "instructional-australian",
   "metadata": {},
   "outputs": [],
   "source": [
    "popt_f=[]\n",
    "for i in range(500):\n",
    "    ydata=Gout_up[i,:]\n",
    "    guess=[1.0,1.0,1.0,1.0,0.0]\n",
    "    popt, pcov = curve_fit(func, wn, ydata, p0=guess)\n",
    "    popt_f.append([popt[0],popt[1],popt[2],popt[3],popt[4]])\n",
    "\n",
    "d8orb=pd.DataFrame(popt_f)\n",
    "d8orb.columns=['param08','param18','param28','param38','param48']\n",
    "d8orb.hist(column='param08',bins=20)"
   ]
  },
  {
   "cell_type": "code",
   "execution_count": null,
   "id": "residential-working",
   "metadata": {},
   "outputs": [],
   "source": [
    "Gin = pd.concat([d2orb, d4orb,d6orb], axis=1)\n",
    "Gin\n",
    "X=Gin.to_numpy()\n",
    "y=d8orb.to_numpy()\n",
    "print(y.shape[1])"
   ]
  },
  {
   "cell_type": "code",
   "execution_count": null,
   "id": "applied-convert",
   "metadata": {},
   "outputs": [],
   "source": [
    "# get the model\n",
    "def get_model(n_inputs, n_outputs):\n",
    "    model = Sequential()\n",
    "    model.add(Dense(20, input_dim=n_inputs, kernel_initializer='he_uniform', activation='relu'))\n",
    "    model.add(Dense(10, input_dim=n_inputs, kernel_initializer='he_uniform', activation='relu'))\n",
    "    #model.add(Dense(5, input_dim=n_inputs, kernel_initializer='he_uniform', activation='relu'))\n",
    "    model.add(Dense(n_outputs))\n",
    "    model.compile(loss='mse', optimizer=RMSprop(),metrics = ['accuracy'])\n",
    "    return model\n",
    " "
   ]
  },
  {
   "cell_type": "code",
   "execution_count": null,
   "id": "motivated-clock",
   "metadata": {},
   "outputs": [],
   "source": [
    "# evaluate a model using repeated k-fold cross-validation\n",
    "def evaluate_model(X, y):\n",
    "    results = list()\n",
    "    n_inputs, n_outputs = X.shape[1], y.shape[1]\n",
    "    # define evaluation procedure\n",
    "\n",
    "    X_train, X_test, y_train, y_test = train_test_split(X, y, test_size=0.2)\n",
    "    # define model\n",
    "    model = get_model(n_inputs, n_outputs)\n",
    "    # fit model\n",
    "    history=model.fit(X_train, y_train, verbose=0, epochs=500,validation_data=(X_test,y_test))\n",
    "    # evaluate model on test set\n",
    "    mae = model.evaluate(X_test, y_test, verbose=0)\n",
    "    # store result\n",
    "    print('>%.3f %.3f' % (mae[0],mae[1]))\n",
    "    results.append(mae)\n",
    "    return results, history\n"
   ]
  },
  {
   "cell_type": "code",
   "execution_count": null,
   "id": "generic-immigration",
   "metadata": {},
   "outputs": [],
   "source": [
    "# evaluate model\n",
    "results, history = evaluate_model(X, y)\n",
    "# summarize performance\n",
    "print('MAE: %.3f (%.3f)' % (mean(results), std(results)))"
   ]
  },
  {
   "cell_type": "code",
   "execution_count": null,
   "id": "comfortable-jewel",
   "metadata": {},
   "outputs": [],
   "source": [
    "# list all data in history\n",
    "print(history.history.keys())\n",
    "# summarize history for accuracy\n",
    "plt.plot(history.history['accuracy'])\n",
    "plt.plot(history.history['val_accuracy'])\n",
    "plt.title('model accuracy')\n",
    "plt.ylabel('accuracy')\n",
    "plt.xlabel('epoch')\n",
    "plt.legend(['train', 'test'], loc='upper left')\n",
    "plt.show()"
   ]
  },
  {
   "cell_type": "code",
   "execution_count": null,
   "id": "second-melbourne",
   "metadata": {},
   "outputs": [],
   "source": [
    "plt.plot(history.history['loss'], label='Loss')\n",
    "plt.plot(history.history['val_loss'], label='valLoss')\n",
    "plt.xlabel('Epoch')\n",
    "plt.ylabel('Loss')\n",
    "plt.legend()\n",
    "plt.show()"
   ]
  },
  {
   "cell_type": "code",
   "execution_count": null,
   "id": "stylish-feeding",
   "metadata": {},
   "outputs": [],
   "source": [
    "score = model.evaluate(X_test, y_test, verbose=0)\n",
    "print('Test loss:', score[0])\n",
    "print(\"%s: %.4f%%\" % (model.metrics_names[1], score[1]*100))"
   ]
  },
  {
   "cell_type": "code",
   "execution_count": null,
   "id": "copyrighted-spokesman",
   "metadata": {},
   "outputs": [],
   "source": [
    "cv = RepeatedKFold(n_splits=10, n_repeats=3, random_state=1)\n",
    "for train_ix, test_ix in cv.split(X):\n",
    "        # prepare data\n",
    "        X_train, X_test = X[train_ix], X[test_ix]\n",
    "        y_train, y_test = y[train_ix], y[test_ix]\n",
    "        \n",
    "X_train.shape"
   ]
  },
  {
   "cell_type": "code",
   "execution_count": null,
   "id": "adaptive-registrar",
   "metadata": {},
   "outputs": [],
   "source": [
    "n_inputs, n_outputs = X.shape[1], y.shape[1]\n",
    "model = get_model(n_inputs, n_outputs)\n",
    "index = model.predict(X_test)\n",
    "print('Predicted: %s' % index[0])"
   ]
  },
  {
   "cell_type": "code",
   "execution_count": null,
   "id": "tamil-formula",
   "metadata": {},
   "outputs": [],
   "source": [
    "y_new=func(wn, index[0,0], index[0,1], index[0,2], index[0,3],index[0,4])\n",
    "plt.plot(wn, y_new)"
   ]
  },
  {
   "cell_type": "code",
   "execution_count": null,
   "id": "public-friday",
   "metadata": {},
   "outputs": [],
   "source": []
  },
  {
   "cell_type": "code",
   "execution_count": null,
   "id": "blank-palmer",
   "metadata": {},
   "outputs": [],
   "source": []
  }
 ],
 "metadata": {
  "kernelspec": {
   "display_name": "Python 3",
   "language": "python",
   "name": "python3"
  },
  "language_info": {
   "codemirror_mode": {
    "name": "ipython",
    "version": 3
   },
   "file_extension": ".py",
   "mimetype": "text/x-python",
   "name": "python",
   "nbconvert_exporter": "python",
   "pygments_lexer": "ipython3",
   "version": "3.9.1"
  }
 },
 "nbformat": 4,
 "nbformat_minor": 5
}
