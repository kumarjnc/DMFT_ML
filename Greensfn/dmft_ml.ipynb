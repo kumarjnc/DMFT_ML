{
 "cells": [
  {
   "cell_type": "markdown",
   "metadata": {},
   "source": [
    "<h1>Machine Learning approach to achieve efficient DMFT solution<h1>"
   ]
  },
  {
   "cell_type": "markdown",
   "metadata": {},
   "source": [
    "<p>We use DMFT with exact diagonalization (ED) as impurity solver<p> \n",
    "<p>ED solver require intinsic parameter called bath orbital obtain using optization fit to bath funtion<p>\n",
    "\n",
    "$$\\mathcal{G}^0(i\\omega_n) = -i\\omega_n+T +\\sum_i\\frac{V_i}{i\\omega_n+\\epsilon_i}$$ \n",
    "    \n",
    "    \n",
    "    \n",
    "<p>where 'i' is the number of bath orbital<p>"
   ]
  },
  {
   "cell_type": "code",
   "execution_count": null,
   "metadata": {},
   "outputs": [],
   "source": [
    "#----Initialization----------------------\n",
    "import numpy as np\n",
    "import pandas as pd\n",
    "import tensorflow\n",
    "import tensorflow.keras\n",
    "from keras.models import Sequential\n",
    "from keras.layers import Dense, Dropout, Flatten\n",
    "from tensorflow.keras.optimizers import Adam, SGD, RMSprop\n",
    "from tensorflow.keras.utils import to_categorical\n",
    "from tensorflow.keras import initializers\n",
    "from tensorflow.keras import regularizers\n",
    "from tensorflow.keras.regularizers import l2\n",
    "import matplotlib.pyplot as plt\n",
    "from sklearn.model_selection import train_test_split\n",
    "from scipy.stats import multivariate_normal\n",
    "from scipy.special import softmax\n",
    "from scipy import sparse\n",
    "import math\n",
    "pi=math.pi\n",
    "exp=math.exp"
   ]
  },
  {
   "cell_type": "markdown",
   "metadata": {},
   "source": [
    "<p> Idea is to get the green's funtion for low number of orbital and train a model with an output with 8 obital<p>\n",
    " <p> $$i\\omega_n=256$$, $$U=3-5 (100)$$ and $$N_b=2,3,6$$<p>"
   ]
  },
  {
   "cell_type": "code",
   "execution_count": null,
   "metadata": {
    "scrolled": true
   },
   "outputs": [],
   "source": [
    "inp_up=np.loadtxt('Gnfnup.dat') # input with 2,4,6 orbital 100 random U\n",
    "inp_dw=np.loadtxt('Gnfndw.dat')\n",
    "out_up=np.loadtxt('Gfup.dat') # output with 8 orbital 100\n",
    "out_dw=np.loadtxt('Gfdw.dat')\n",
    "#------------------To cross check we reshape-------------\n",
    "Ginp_up=np.reshape(inp_up, (100,256*3), order='C')\n",
    "Ginp_dw=np.reshape(inp_dw, (100,256*3),order='C')\n",
    "Gout_up=np.reshape(out_up, (100,256),order='C')\n",
    "Gout_dw=np.reshape(out_dw, (100,256),order='C')\n",
    "plt.plot(Ginp_up[0,:],'o-')\n",
    "plt.show()\n",
    "tmp=np.reshape(inp_up, (100,256,3), order='C')\n",
    "tmpdw=np.reshape(inp_dw, (100,256,3), order='C')\n",
    "Ginp_uporb=pd.DataFrame(Ginp_up)   \n",
    "display(Ginp_uporb)"
   ]
  },
  {
   "cell_type": "code",
   "execution_count": null,
   "metadata": {},
   "outputs": [],
   "source": [
    "\n",
    "Ginp_uporb.hist(column=2, sharey=True, figsize=(8,8))\n",
    "plt.show()"
   ]
  },
  {
   "cell_type": "code",
   "execution_count": null,
   "metadata": {},
   "outputs": [],
   "source": [
    "fig, ax = plt.subplots(2, 2, sharex='col', sharey='row',figsize=(8, 8))\n",
    "ax[0,0].plot(tmp[5,:,0],'-',label=r'$\\uparrow$;2')\n",
    "ax[0,0].plot(tmpdw[5,:,0],'-',label=r'$\\downarrow$;2')\n",
    "ax[0,0].plot(tmp[5,:,1],'-',label=r'$\\uparrow$;4')\n",
    "ax[0,0].plot(tmpdw[5,:,1],'-',label=r'$\\downarrow$;4')\n",
    "ax[0,0].plot(tmp[5,:,2],'-',label=r'$\\uparrow$;6')\n",
    "ax[0,0].plot(tmpdw[5,:,2],'-',label=r'$\\downarrow$;6')\n",
    "ax[0,0].set(xlabel=r'$\\tau$')\n",
    "ax[0,0].legend(loc='center')\n",
    "ax[0,0].set(ylabel=r'$G(\\tau)$')\n",
    "ax[0, 0].set_title(\"U=U1\")\n",
    "\n",
    "ax[0,1].plot(tmp[20,:,0],'-',label=r'$\\uparrow$;2')\n",
    "ax[0,1].plot(tmpdw[20,:,0],'-',label=r'$\\downarrow$;2')\n",
    "ax[0,1].plot(tmp[20,:,1],'-',label=r'$\\uparrow$;4')\n",
    "ax[0,1].plot(tmpdw[20,:,1],'-',label=r'$\\downarrow$;4')\n",
    "ax[0,1].plot(tmp[20,:,2],'-',label=r'$\\uparrow$;6')\n",
    "ax[0,1].plot(tmpdw[20,:,2],'-',label=r'$\\downarrow$;6')\n",
    "ax[0,1].set(xlabel=r'$\\tau$')\n",
    "ax[0,1].legend(loc='center')\n",
    "ax[0,1].set(ylabel=r'$G(\\tau)$')\n",
    "ax[0,1].set_title(\"U=U2\")\n",
    "ax[1,0].plot(tmp[60,:,0],'-',label=r'$\\uparrow$;2')\n",
    "ax[1,0].plot(tmpdw[60,:,0],'-',label=r'$\\downarrow$;2')\n",
    "ax[1,0].plot(tmp[60,:,1],'-',label=r'$\\uparrow$;4')\n",
    "ax[1,0].plot(tmpdw[60,:,1],'-',label=r'$\\downarrow$;4')\n",
    "ax[1,0].plot(tmp[60,:,2],'-',label=r'$\\uparrow$;6')\n",
    "ax[1,0].plot(tmpdw[60,:,2],'-',label=r'$\\downarrow$;6')\n",
    "ax[1,0].set(xlabel=r'$\\tau$')\n",
    "ax[1,0].legend(loc='center')\n",
    "ax[1,0].set(ylabel=r'$G(\\tau)$')\n",
    "ax[1,0].set_title(\"U=U3\")\n",
    "ax[1,1].plot(tmp[80,:,0],'-',label=r'$\\uparrow$;2')\n",
    "ax[1,1].plot(tmpdw[80,:,0],'-',label=r'$\\downarrow$;2')\n",
    "ax[1,1].plot(tmp[80,:,1],'-',label=r'$\\uparrow$;4')\n",
    "ax[1,1].plot(tmpdw[80,:,1],'-',label=r'$\\downarrow$;4')\n",
    "ax[1,1].plot(tmp[80,:,2],'-',label=r'$\\uparrow$;6')\n",
    "ax[1,1].plot(tmpdw[80,:,2],'-',label=r'$\\downarrow$;6')\n",
    "ax[1,1].set(xlabel=r'$\\tau$')\n",
    "ax[1,1].legend(loc='center')\n",
    "ax[1,1].set(ylabel=r'$G(\\tau)$')\n",
    "ax[1,1].set_title(\"U=U4\")\n",
    "plt.show()"
   ]
  },
  {
   "cell_type": "code",
   "execution_count": null,
   "metadata": {},
   "outputs": [],
   "source": [
    "fig, ax = plt.subplots(2, 2, sharex='col', sharey='row',figsize=(8, 8))\n",
    "ax[0,0].plot(Gout_up[2,:],'-',label=r'$\\uparrow$')\n",
    "ax[0,0].plot(Gout_dw[2,:],'-',label=r'$\\downarrow$')\n",
    "ax[0,0].set(xlabel=r'$\\tau$')\n",
    "ax[0,0].legend(loc='center')\n",
    "ax[0,0].set(ylabel=r'$G(\\tau)$')\n",
    "ax[0,1].plot(Gout_up[10,:],'-',label=r'$\\uparrow$')\n",
    "ax[0,1].plot(Gout_dw[10,:],'-',label=r'$\\downarrow$')\n",
    "ax[0,1].set(xlabel=r'$\\tau$')\n",
    "ax[0,1].legend(loc='center')\n",
    "ax[0,1].set(ylabel=r'$G(\\tau)$')\n",
    "ax[1,0].plot(Gout_up[20,:],'-',label=r'$\\uparrow$')\n",
    "ax[1,0].plot(Gout_dw[20,:],'-',label=r'$\\downarrow$')\n",
    "ax[1,0].set(xlabel=r'$\\tau$')\n",
    "ax[1,0].legend(loc='center')\n",
    "ax[1,0].set(ylabel=r'$G(\\tau)$')\n",
    "\n",
    "ax[1,1].plot(Gout_up[40,:],'-',label=r'$\\uparrow$')\n",
    "ax[1,1].plot(Gout_dw[40,:],'-',label=r'$\\downarrow$')\n",
    "ax[1,1].set(xlabel=r'$\\tau$')\n",
    "ax[1,1].legend(loc='center')\n",
    "ax[1,1].set(ylabel=r'$G(\\tau)$')\n",
    "plt.show()"
   ]
  },
  {
   "cell_type": "code",
   "execution_count": null,
   "metadata": {},
   "outputs": [],
   "source": [
    "def randomgrin(n):\n",
    "    import random\n",
    "    sin=np.zeros((100,256*3))\n",
    "    np.random.seed(n)\n",
    "    for i in range (100):\n",
    "        sin[i,:]=np.random.normal(0.5,0.1)\n",
    "    sin=sin/(np.amax(sin)*100)\n",
    "    return sin"
   ]
  },
  {
   "cell_type": "code",
   "execution_count": null,
   "metadata": {},
   "outputs": [],
   "source": [
    "Ginp_up_s1=Ginp_up+randomgrin(1)\n",
    "Ginp_up_s2=Ginp_up+randomgrin(2)\n",
    "Ginp_up_s3=Ginp_up+randomgrin(3)\n",
    "Ginp_up_s4=Ginp_up+randomgrin(4)\n",
    "Ginp_up_s5=Ginp_up+randomgrin(5)"
   ]
  },
  {
   "cell_type": "code",
   "execution_count": null,
   "metadata": {},
   "outputs": [],
   "source": [
    "def randomgrout(n):\n",
    "    import random\n",
    "    sout=np.zeros((100,256))\n",
    "    np.random.seed(n)\n",
    "    for i in range (100):\n",
    "        sout[i,:]=np.random.normal(0.5,0.1)\n",
    "    sout=sout/(np.amax(sout)*100)\n",
    "    return sout"
   ]
  },
  {
   "cell_type": "code",
   "execution_count": null,
   "metadata": {},
   "outputs": [],
   "source": [
    "Gout_up_s1=Gout_up+randomgrout(1)\n",
    "Gout_up_s2=Gout_up+randomgrout(2)\n",
    "Gout_up_s3=Gout_up+randomgrout(3)\n",
    "Gout_up_s4=Gout_up+randomgrout(4)\n",
    "Gout_up_s5=Gout_up+randomgrout(5)"
   ]
  },
  {
   "cell_type": "code",
   "execution_count": null,
   "metadata": {},
   "outputs": [],
   "source": [
    "X=np.vstack((Ginp_up,Ginp_up_s1,Ginp_up_s2,Ginp_up_s3,Ginp_up_s4,Ginp_up_s5))\n",
    "y=np.vstack((Gout_up,Gout_up_s1,Gout_up_s2,Gout_up_s3,Gout_up_s4,Gout_up_s5))"
   ]
  },
  {
   "cell_type": "code",
   "execution_count": null,
   "metadata": {},
   "outputs": [],
   "source": [
    "df = pd.DataFrame(data=X)"
   ]
  },
  {
   "cell_type": "code",
   "execution_count": null,
   "metadata": {},
   "outputs": [],
   "source": [
    "df2=df.round(2)\n",
    "X=df2.to_numpy()"
   ]
  },
  {
   "cell_type": "code",
   "execution_count": null,
   "metadata": {},
   "outputs": [],
   "source": [
    "#-------------------------\n",
    "\n",
    "#print (X)\n",
    "print(X.shape, y.shape)\n",
    "X_train=X[0:500,:]\n",
    "X_test=X[500:600,:]\n",
    "y_train=y[0:500,:]\n",
    "y_test=y[500:600,:]\n",
    "print(y_train.shape)\n"
   ]
  },
  {
   "cell_type": "code",
   "execution_count": null,
   "metadata": {},
   "outputs": [],
   "source": [
    "import pandas as pd\n",
    "df=pd.DataFrame(X)\n",
    "#display(df)\n",
    "#df.hist(column=0,bins=50, grid=False, figsize=(10,6), color='#86bf91', zorder=2, rwidth=0.9)\n",
    "ax = df.hist(column=0, bins=100, grid=False, figsize=(4,4), color='#86bf91', zorder=2, rwidth=0.9)\n",
    "ax = ax[0]\n",
    "for x in ax:\n",
    "\n",
    "    # Despine\n",
    "    x.spines['right'].set_visible(True)\n",
    "    x.spines['top'].set_visible(True)\n",
    "    x.spines['left'].set_visible(True)\n",
    "\n",
    "    # Switch off ticks\n",
    "    x.tick_params(axis=\"both\", which=\"both\", bottom=\"on\", top=\"on\", labelbottom=\"on\", left=\"on\", right=\"on\", labelleft=\"on\")\n",
    "    # Draw horizontal axis lines\n",
    "    vals = x.get_yticks()\n",
    "    for tick in vals:\n",
    "        x.axhline(y=tick, linestyle='dashed', alpha=0.4, color='#eeeeee', zorder=1)\n",
    "\n",
    "    # Remove title\n",
    "    x.set_title(\"\")\n",
    "\n",
    "    # Set x-axis label\n",
    "    x.set_xlabel(r\"$G(\\tau)$\", labelpad=20, weight='bold', size=12)\n",
    "\n",
    "    # Set y-axis label\n",
    "    x.set_ylabel(\"units\", labelpad=20, weight='bold', size=12)\n",
    "\n",
    "    "
   ]
  },
  {
   "cell_type": "code",
   "execution_count": null,
   "metadata": {},
   "outputs": [],
   "source": [
    "columns=[]\n",
    "for i in range(768):\n",
    "    x=\"col\"+\"_\"+str(i)\n",
    "    columns.append(x)\n",
    "columns"
   ]
  },
  {
   "cell_type": "code",
   "execution_count": null,
   "metadata": {},
   "outputs": [],
   "source": [
    "df.columns=columns\n",
    "df.index\n",
    "#display(df)\n",
    "#df.reset_index().plot(x='index', y='col_4',figsize=(8,8))\n",
    "#plt.show()\n",
    "\n"
   ]
  },
  {
   "cell_type": "markdown",
   "metadata": {},
   "source": [
    "<h2>For now, we do not use PCA<h2> "
   ]
  },
  {
   "cell_type": "code",
   "execution_count": null,
   "metadata": {},
   "outputs": [],
   "source": [
    "from sklearn.decomposition import PCA, KernelPCA\n",
    "scikit_pca = PCA(n_components=3)\n",
    "scikit_pca.fit(X_train)\n",
    "X_pca_train=scikit_pca.transform(X_train)\n",
    "print(X_pca_train.shape)\n",
    "X_train_w=scikit_pca.components_\n",
    "print(scikit_pca.components_)\n",
    "\n",
    "scikit_pca.fit(X_test)\n",
    "X_pca_test=scikit_pca.transform(X_test)\n",
    "print(X_pca_test.shape)\n",
    "print(scikit_pca.components_)\n",
    "print(scikit_pca.components_.shape)\n",
    "X_test_w=scikit_pca.components_\n",
    "plt.plot(X_pca_test)"
   ]
  },
  {
   "cell_type": "markdown",
   "metadata": {},
   "source": [
    "<p> Tensor network Keras to define the netwoork <p> "
   ]
  },
  {
   "cell_type": "code",
   "execution_count": null,
   "metadata": {},
   "outputs": [],
   "source": [
    "from keras.layers import GaussianNoise\n",
    "from tensorflow.keras.regularizers import l2\n",
    "# define the Neural Network\n",
    "model = Sequential()\n",
    "model.add(Dense(32, activation = 'relu',input_shape=(256*3,))) \n",
    "model.add(Dropout(0.2))\n",
    "model.add(Dense(16, activation = 'relu'))\n",
    "model.add(Dropout(0.2))\n",
    "model.add(Dense(16, activation = 'relu'))\n",
    "model.add(Dropout(0.2))\n",
    "model.add(Dense(256))"
   ]
  },
  {
   "cell_type": "code",
   "execution_count": null,
   "metadata": {},
   "outputs": [],
   "source": [
    "tensorflow.keras.utils.plot_model(model)\n"
   ]
  },
  {
   "cell_type": "code",
   "execution_count": null,
   "metadata": {
    "scrolled": true
   },
   "outputs": [],
   "source": [
    "print(model.summary())"
   ]
  },
  {
   "cell_type": "code",
   "execution_count": null,
   "metadata": {},
   "outputs": [],
   "source": [
    "# Lets look at the model's prediction before training it\n",
    "pred = model(X_train)\n",
    "print(pred.shape)\n",
    "#plt.plot(pred)"
   ]
  },
  {
   "cell_type": "code",
   "execution_count": null,
   "metadata": {},
   "outputs": [],
   "source": [
    "# here you compile the model and choose the optimizer and loss for the training\n",
    "#opt = SGD(learning_rate=0.01, momentum=0.9)\n",
    "model.compile(\n",
    "   loss = 'mse', \n",
    "   optimizer = RMSprop(), \n",
    "   metrics = ['accuracy']\n",
    ")"
   ]
  },
  {
   "cell_type": "code",
   "execution_count": null,
   "metadata": {},
   "outputs": [],
   "source": [
    "from tensorflow.keras.callbacks import EarlyStopping\n",
    "\n",
    "history = model.fit(\n",
    "   X_train, y_train,    \n",
    "   batch_size=10, \n",
    "   epochs = 1000, \n",
    "   verbose = 1, \n",
    "   validation_data=(X_test,y_test), \n",
    "   #callbacks = [EarlyStopping(monitor = 'val_loss', patience = 20)]\n",
    ")"
   ]
  },
  {
   "cell_type": "code",
   "execution_count": null,
   "metadata": {},
   "outputs": [],
   "source": [
    "# list all data in history\n",
    "print(history.history.keys())\n",
    "# summarize history for accuracy\n",
    "plt.plot(history.history['accuracy'])\n",
    "plt.plot(history.history['val_accuracy'])\n",
    "plt.title('model accuracy')\n",
    "plt.ylabel('accuracy')\n",
    "plt.xlabel('epoch')\n",
    "plt.legend(['train', 'test'], loc='upper left')\n",
    "plt.show()"
   ]
  },
  {
   "cell_type": "code",
   "execution_count": null,
   "metadata": {},
   "outputs": [],
   "source": [
    "scores = model.evaluate(X_test, y_test, verbose=0)\n",
    "print(\"%s: %.2f%%\" % (model.metrics_names[1], scores[1]*100))"
   ]
  },
  {
   "cell_type": "code",
   "execution_count": null,
   "metadata": {},
   "outputs": [],
   "source": [
    "prediction = model.predict(X_test) \n",
    "print(prediction.shape) \n",
    "ypred=prediction\n",
    "print(ypred.shape)\n",
    "#for i in range(0,80):\n",
    "#    plt.plot(ypred[i,:],'-')\n",
    "    \n",
    "#   print(ypred[i,-1],ypred[i,0])\n",
    "i=40\n",
    "\n",
    "#plt.plot(prediction.flatten())\n",
    "plt.plot(y_test[i,:],'o')\n",
    "plt.plot(ypred[i,:],'-')\n",
    "plt.legend(['test', 'pred'], loc='best')\n",
    "\n",
    "#print(ypred[i,-1],ypred[i,0])\n",
    "#print(y_test[i,-1],y_test[i,0])\n",
    "#plt.plot(ypred.flatten(),'o')\n",
    "#plt.plot(y_test.flatten(),'*')\n",
    "plt.show()"
   ]
  },
  {
   "cell_type": "code",
   "execution_count": null,
   "metadata": {},
   "outputs": [],
   "source": [
    "plt.plot(history.history['loss'], label='Loss')\n",
    "plt.plot(history.history['val_loss'], label='valLoss')\n",
    "plt.xlabel('Epoch')\n",
    "plt.ylabel('Loss')\n",
    "plt.legend()\n",
    "plt.show()"
   ]
  },
  {
   "cell_type": "code",
   "execution_count": null,
   "metadata": {},
   "outputs": [],
   "source": [
    "from sklearn import metrics\n",
    "from math import sqrt\n",
    "meanAbErr = metrics.mean_absolute_error(y_test, ypred)\n",
    "meanSqErr = metrics.mean_squared_error(y_test, ypred)\n",
    "rootMeanSqErr = np.sqrt(metrics.mean_squared_error(y_test, ypred))\n",
    "\n",
    "print('Mean Absolute Error:', meanAbErr)\n",
    "print('Mean Square Error:', meanSqErr)\n",
    "print('Root Mean Square Error:', rootMeanSqErr)"
   ]
  },
  {
   "cell_type": "code",
   "execution_count": null,
   "metadata": {},
   "outputs": [],
   "source": [
    "scores = model.evaluate(X_test, y_test, verbose=0)"
   ]
  },
  {
   "cell_type": "code",
   "execution_count": null,
   "metadata": {},
   "outputs": [],
   "source": [
    "score = model.evaluate(X_test, y_test, verbose=0)\n",
    "print('Test loss:', score[0])\n",
    "print(\"%s: %.4f%%\" % (model.metrics_names[1], score[1]*100))"
   ]
  }
 ],
 "metadata": {
  "kernelspec": {
   "display_name": "Python 3",
   "language": "python",
   "name": "python3"
  },
  "language_info": {
   "codemirror_mode": {
    "name": "ipython",
    "version": 3
   },
   "file_extension": ".py",
   "mimetype": "text/x-python",
   "name": "python",
   "nbconvert_exporter": "python",
   "pygments_lexer": "ipython3",
   "version": "3.9.1"
  }
 },
 "nbformat": 4,
 "nbformat_minor": 4
}
